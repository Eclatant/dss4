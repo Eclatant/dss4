{
 "cells": [
  {
   "cell_type": "markdown",
   "metadata": {},
   "source": [
    "# SQL"
   ]
  },
  {
   "cell_type": "markdown",
   "metadata": {},
   "source": [
    "* 학습목표\n",
    "  1. mysql 테이블 생성, 인덱스 설정 및 관계 설정\n",
    "  2. JOIN 이해 및 실습\n",
    "  3. python module을 통하여 SQL 작성"
   ]
  },
  {
   "cell_type": "code",
   "execution_count": null,
   "metadata": {
    "collapsed": true
   },
   "outputs": [],
   "source": []
  },
  {
   "cell_type": "markdown",
   "metadata": {},
   "source": [
    "* mysql module\n",
    "  - MySQLdb 모듈\n",
    "  - sudo pip install MySQL-python\n",
    "  - Windows 설치 에러 시,\n",
    "    * pip install wheel\n",
    "    * http://www.lfd.uci.edu/~gohlke/pythonlibs/#mysql-python 에서 버젼별 다운로드\n",
    "    * pip install 다운받은파일.whl\n",
    "    \n",
    "  - osx 설치 EnvironmentError: mysql_config not found 에러 발생 시,\n",
    "    * brew install mysql\n",
    "    * mysql이 설치된 위치에 따라서, \n",
    "    * vi ~/.bash_profile 후 아래 줄 추가 후 저장\n",
    "    * export PATH=$PATH:/usr/local/mysql/bin  이거나\n",
    "    \n",
    "    * export PATH=$PATH:/usr/local/Cellar/mysql/VERSION/bin/\n",
    "    \n",
    "    * source ~/.bash_profile\n",
    "     \n",
    "  - ubuntu에 설치 EnvironmentError: mysql_config not found 에러가 발생 시, \n",
    "    * sudo apt-get install libmysqlclient-dev 설치 후, 다시 설치\n"
   ]
  },
  {
   "cell_type": "markdown",
   "metadata": {},
   "source": [
    "* MySQL-python module 실습"
   ]
  },
  {
   "cell_type": "code",
   "execution_count": 1,
   "metadata": {
    "collapsed": true
   },
   "outputs": [],
   "source": [
    "# mysql server가 설치된 호스트 주소\n",
    "server = ''"
   ]
  },
  {
   "cell_type": "markdown",
   "metadata": {},
   "source": [
    "* select one"
   ]
  },
  {
   "cell_type": "code",
   "execution_count": 7,
   "metadata": {
    "collapsed": false
   },
   "outputs": [
    {
     "name": "stdout",
     "output_type": "stream",
     "text": [
      "<type 'tuple'>\n",
      "('ABW', 'Aruba', 'North America', 'Caribbean', 193.0, None, 103000L, 78.4, 828.0, 793.0, 'Aruba', 'Nonmetropolitan Territory of The Netherlands', 'Beatrix', 129L, 'AW')\n"
     ]
    }
   ],
   "source": [
    "import MySQLdb\n",
    "# 접속할 서버 주소, DB 사용자 아이디, DB 사용자 비밀번호, DB\n",
    "db = MySQLdb.connect(server, '','','world' )\n",
    "\n",
    "cursor = db.cursor()\n",
    "\n",
    "# 쿼리를 문자열로 전닯\n",
    "cursor.execute(\"select * from country\")\n",
    "\n",
    "# 한개만 가져옴\n",
    "data = cursor.fetchone()\n",
    "\n",
    "print type(data)\n",
    "print data\n",
    "\n",
    "# 연결 종료\n",
    "db.close()\n"
   ]
  },
  {
   "cell_type": "markdown",
   "metadata": {},
   "source": [
    "* select all"
   ]
  },
  {
   "cell_type": "code",
   "execution_count": 1,
   "metadata": {
    "collapsed": false
   },
   "outputs": [
    {
     "ename": "NameError",
     "evalue": "name 'server' is not defined",
     "output_type": "error",
     "traceback": [
      "\u001b[0;31m---------------------------------------------------------------------------\u001b[0m",
      "\u001b[0;31mNameError\u001b[0m                                 Traceback (most recent call last)",
      "\u001b[0;32m<ipython-input-1-966b72014753>\u001b[0m in \u001b[0;36m<module>\u001b[0;34m()\u001b[0m\n\u001b[1;32m      1\u001b[0m \u001b[0;32mimport\u001b[0m \u001b[0mMySQLdb\u001b[0m\u001b[0;34m\u001b[0m\u001b[0m\n\u001b[0;32m----> 2\u001b[0;31m \u001b[0mdb\u001b[0m \u001b[0;34m=\u001b[0m \u001b[0mMySQLdb\u001b[0m\u001b[0;34m.\u001b[0m\u001b[0mconnect\u001b[0m\u001b[0;34m(\u001b[0m\u001b[0mserver\u001b[0m\u001b[0;34m,\u001b[0m \u001b[0;34m''\u001b[0m\u001b[0;34m,\u001b[0m\u001b[0;34m\"\"\u001b[0m\u001b[0;34m,\u001b[0m\u001b[0;34m\"\"\u001b[0m\u001b[0;34m)\u001b[0m\u001b[0;34m\u001b[0m\u001b[0m\n\u001b[0m\u001b[1;32m      3\u001b[0m \u001b[0;34m\u001b[0m\u001b[0m\n\u001b[1;32m      4\u001b[0m \u001b[0mcursor\u001b[0m \u001b[0;34m=\u001b[0m \u001b[0mdb\u001b[0m\u001b[0;34m.\u001b[0m\u001b[0mcursor\u001b[0m\u001b[0;34m(\u001b[0m\u001b[0;34m)\u001b[0m\u001b[0;34m\u001b[0m\u001b[0m\n\u001b[1;32m      5\u001b[0m \u001b[0mcursor\u001b[0m\u001b[0;34m.\u001b[0m\u001b[0mexecute\u001b[0m\u001b[0;34m(\u001b[0m\u001b[0;34m\"select * from country\"\u001b[0m\u001b[0;34m)\u001b[0m\u001b[0;34m\u001b[0m\u001b[0m\n",
      "\u001b[0;31mNameError\u001b[0m: name 'server' is not defined"
     ]
    }
   ],
   "source": [
    "import MySQLdb\n",
    "db = MySQLdb.connect(server, '',\"\",\"\")\n",
    "\n",
    "cursor = db.cursor()\n",
    "cursor.execute(\"select * from country\")\n",
    "\n",
    "print cursor.rowcount\n",
    "\n",
    "# 모두 가져옴\n",
    "results = cursor.fetchall()\n",
    "for row in results:\n",
    "    print row\n",
    "\n",
    "# disconnect from server\n",
    "db.close()\n"
   ]
  },
  {
   "cell_type": "markdown",
   "metadata": {},
   "source": [
    "* insert data"
   ]
  },
  {
   "cell_type": "code",
   "execution_count": 11,
   "metadata": {
    "collapsed": false
   },
   "outputs": [],
   "source": [
    "import MySQLdb\n",
    "db = MySQLdb.connect(server, '',\"\",\"\", cursorclass=MySQLdb.cursors.DictCursor)\n",
    "\n",
    "cursor = db.cursor()\n",
    "\n",
    "try:\n",
    "   # transaction\n",
    "   cursor.execute(\"\"\"INSERT INTO city VALUES (10001,'Pangyo','KOR','PAN',170000);\"\"\")\n",
    "   cursor.execute(\"\"\"INSERT INTO city VALUES (10002,'Pangyo','KOR','PAN',170000);\"\"\")\n",
    "   cursor.execute(\"\"\"INSERT INTO city VALUES (10003,'Pangyo','KOR','PAN',170000);\"\"\")\n",
    "   cursor.execute(\"\"\"INSERT INTO city VALUES (10004,'Pangyo','KOR','PAN',170000);\"\"\")\n",
    "        \n",
    "   db.commit()\n",
    "except Exception as e:\n",
    "   db.rollback()\n",
    "   print e\n",
    "\n",
    "\n",
    "# disconnect from server\n",
    "db.close()\n",
    "\n"
   ]
  },
  {
   "cell_type": "markdown",
   "metadata": {},
   "source": [
    "* mysql table 설계 및 생성\n",
    "  - 첨부된 test.sql 파일로 진행할 예정입니다.\n",
    "    "
   ]
  },
  {
   "cell_type": "code",
   "execution_count": null,
   "metadata": {
    "collapsed": true
   },
   "outputs": [],
   "source": []
  }
 ],
 "metadata": {
  "kernelspec": {
   "display_name": "Python 2",
   "language": "python",
   "name": "python2"
  },
  "language_info": {
   "codemirror_mode": {
    "name": "ipython",
    "version": 2
   },
   "file_extension": ".py",
   "mimetype": "text/x-python",
   "name": "python",
   "nbconvert_exporter": "python",
   "pygments_lexer": "ipython2",
   "version": "2.7.13"
  }
 },
 "nbformat": 4,
 "nbformat_minor": 1
}
